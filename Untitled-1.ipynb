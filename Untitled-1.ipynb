{
 "cells": [
  {
   "cell_type": "code",
   "execution_count": 4,
   "id": "1c3fca49",
   "metadata": {},
   "outputs": [],
   "source": [
    "# Cell [1] - Install required packages\n",
    "!pip install pandas numpy matplotlib seaborn plotly\n",
    "!pip install textblob vaderSentiment wordcloud\n",
    "!pip install scikit-learn"
   ]
  },
  {
   "cell_type": "code",
   "execution_count": 6,
   "id": "14f78919",
   "metadata": {},
   "outputs": [
    {
     "name": "stdout",
     "output_type": "stream",
     "text": [
      "Requirement already satisfied: pandas in c:\\users\\kavya\\desktop\\uploads\\task4\\venv\\lib\\site-packages (2.3.2)\n",
      "Requirement already satisfied: matplotlib in c:\\users\\kavya\\desktop\\uploads\\task4\\venv\\lib\\site-packages (3.10.5)\n",
      "Collecting nltk\n",
      "  Downloading nltk-3.9.1-py3-none-any.whl.metadata (2.9 kB)\n",
      "Collecting textblob\n",
      "  Downloading textblob-0.19.0-py3-none-any.whl.metadata (4.4 kB)\n",
      "Requirement already satisfied: numpy>=1.26.0 in c:\\users\\kavya\\desktop\\uploads\\task4\\venv\\lib\\site-packages (from pandas) (2.3.2)\n",
      "Requirement already satisfied: python-dateutil>=2.8.2 in c:\\users\\kavya\\desktop\\uploads\\task4\\venv\\lib\\site-packages (from pandas) (2.9.0.post0)\n",
      "Requirement already satisfied: pytz>=2020.1 in c:\\users\\kavya\\desktop\\uploads\\task4\\venv\\lib\\site-packages (from pandas) (2025.2)\n",
      "Requirement already satisfied: tzdata>=2022.7 in c:\\users\\kavya\\desktop\\uploads\\task4\\venv\\lib\\site-packages (from pandas) (2025.2)\n",
      "Requirement already satisfied: contourpy>=1.0.1 in c:\\users\\kavya\\desktop\\uploads\\task4\\venv\\lib\\site-packages (from matplotlib) (1.3.3)\n",
      "Requirement already satisfied: cycler>=0.10 in c:\\users\\kavya\\desktop\\uploads\\task4\\venv\\lib\\site-packages (from matplotlib) (0.12.1)\n",
      "Requirement already satisfied: fonttools>=4.22.0 in c:\\users\\kavya\\desktop\\uploads\\task4\\venv\\lib\\site-packages (from matplotlib) (4.59.1)\n",
      "Requirement already satisfied: kiwisolver>=1.3.1 in c:\\users\\kavya\\desktop\\uploads\\task4\\venv\\lib\\site-packages (from matplotlib) (1.4.9)\n",
      "Requirement already satisfied: packaging>=20.0 in c:\\users\\kavya\\desktop\\uploads\\task4\\venv\\lib\\site-packages (from matplotlib) (25.0)\n",
      "Requirement already satisfied: pillow>=8 in c:\\users\\kavya\\desktop\\uploads\\task4\\venv\\lib\\site-packages (from matplotlib) (11.3.0)\n",
      "Requirement already satisfied: pyparsing>=2.3.1 in c:\\users\\kavya\\desktop\\uploads\\task4\\venv\\lib\\site-packages (from matplotlib) (3.2.3)\n",
      "Collecting click (from nltk)\n",
      "  Downloading click-8.2.1-py3-none-any.whl.metadata (2.5 kB)\n",
      "Requirement already satisfied: joblib in c:\\users\\kavya\\desktop\\uploads\\task4\\venv\\lib\\site-packages (from nltk) (1.5.1)\n",
      "Collecting regex>=2021.8.3 (from nltk)\n",
      "  Downloading regex-2025.7.34-cp312-cp312-win_amd64.whl.metadata (41 kB)\n",
      "Collecting tqdm (from nltk)\n",
      "  Downloading tqdm-4.67.1-py3-none-any.whl.metadata (57 kB)\n",
      "Requirement already satisfied: six>=1.5 in c:\\users\\kavya\\desktop\\uploads\\task4\\venv\\lib\\site-packages (from python-dateutil>=2.8.2->pandas) (1.17.0)\n",
      "Requirement already satisfied: colorama in c:\\users\\kavya\\desktop\\uploads\\task4\\venv\\lib\\site-packages (from click->nltk) (0.4.6)\n",
      "Downloading nltk-3.9.1-py3-none-any.whl (1.5 MB)\n",
      "   ---------------------------------------- 0.0/1.5 MB ? eta -:--:--\n",
      "   ------ --------------------------------- 0.3/1.5 MB ? eta -:--:--\n",
      "   -------------------- ------------------- 0.8/1.5 MB 3.0 MB/s eta 0:00:01\n",
      "   ---------------------------------------- 1.5/1.5 MB 3.3 MB/s  0:00:00\n",
      "Downloading textblob-0.19.0-py3-none-any.whl (624 kB)\n",
      "   ---------------------------------------- 0.0/624.3 kB ? eta -:--:--\n",
      "   ---------------------------------------- 624.3/624.3 kB 7.7 MB/s  0:00:00\n",
      "Downloading regex-2025.7.34-cp312-cp312-win_amd64.whl (275 kB)\n",
      "Downloading click-8.2.1-py3-none-any.whl (102 kB)\n",
      "Downloading tqdm-4.67.1-py3-none-any.whl (78 kB)\n",
      "Installing collected packages: tqdm, regex, click, nltk, textblob\n",
      "\n",
      "   ---------------------------------------- 0/5 [tqdm]\n",
      "   -------- ------------------------------- 1/5 [regex]\n",
      "   ---------------- ----------------------- 2/5 [click]\n",
      "   ------------------------ --------------- 3/5 [nltk]\n",
      "   ------------------------ --------------- 3/5 [nltk]\n",
      "   ------------------------ --------------- 3/5 [nltk]\n",
      "   ------------------------ --------------- 3/5 [nltk]\n",
      "   ------------------------ --------------- 3/5 [nltk]\n",
      "   ------------------------ --------------- 3/5 [nltk]\n",
      "   ------------------------ --------------- 3/5 [nltk]\n",
      "   ------------------------ --------------- 3/5 [nltk]\n",
      "   ------------------------ --------------- 3/5 [nltk]\n",
      "   ------------------------ --------------- 3/5 [nltk]\n",
      "   ------------------------ --------------- 3/5 [nltk]\n",
      "   ------------------------ --------------- 3/5 [nltk]\n",
      "   ------------------------ --------------- 3/5 [nltk]\n",
      "   ------------------------ --------------- 3/5 [nltk]\n",
      "   ------------------------ --------------- 3/5 [nltk]\n",
      "   ------------------------ --------------- 3/5 [nltk]\n",
      "   ------------------------ --------------- 3/5 [nltk]\n",
      "   ------------------------ --------------- 3/5 [nltk]\n",
      "   ------------------------ --------------- 3/5 [nltk]\n",
      "   ------------------------ --------------- 3/5 [nltk]\n",
      "   ------------------------ --------------- 3/5 [nltk]\n",
      "   -------------------------------- ------- 4/5 [textblob]\n",
      "   ---------------------------------------- 5/5 [textblob]\n",
      "\n",
      "Successfully installed click-8.2.1 nltk-3.9.1 regex-2025.7.34 textblob-0.19.0 tqdm-4.67.1\n",
      "Note: you may need to restart the kernel to use updated packages.\n"
     ]
    }
   ],
   "source": [
    "pip install pandas matplotlib nltk textblob\n"
   ]
  },
  {
   "cell_type": "code",
   "execution_count": 16,
   "id": "3c239b5f",
   "metadata": {},
   "outputs": [],
   "source": [
    "import pandas as pd\n",
    "df = pd.read_csv('twitter_training.csv')\n"
   ]
  },
  {
   "cell_type": "code",
   "execution_count": 17,
   "id": "b254bd09",
   "metadata": {},
   "outputs": [
    {
     "name": "stdout",
     "output_type": "stream",
     "text": [
      "   SL.No         City    Result  \\\n",
      "0   2401  Borderlands  Positive   \n",
      "1   2401  Borderlands  Positive   \n",
      "2   2401  Borderlands  Positive   \n",
      "3   2401  Borderlands  Positive   \n",
      "4   2401  Borderlands  Positive   \n",
      "\n",
      "                                     Column_with_txt  \n",
      "0  im getting on borderlands and i will murder yo...  \n",
      "1  I am coming to the borders and I will kill you...  \n",
      "2  im getting on borderlands and i will kill you all  \n",
      "3  im coming on borderlands and i will murder you...  \n",
      "4  im getting on borderlands 2 and i will murder ...  \n"
     ]
    }
   ],
   "source": [
    "print(df.head())\n"
   ]
  },
  {
   "cell_type": "code",
   "execution_count": 18,
   "id": "0ff7dd80",
   "metadata": {},
   "outputs": [],
   "source": [
    "df = df.dropna()\n",
    "df = df.drop_duplicates()\n"
   ]
  },
  {
   "cell_type": "code",
   "execution_count": 19,
   "id": "8996fe2b",
   "metadata": {},
   "outputs": [
    {
     "name": "stdout",
     "output_type": "stream",
     "text": [
      "Index(['SL.No', 'City', 'Result', 'Column_with_txt'], dtype='object')\n"
     ]
    }
   ],
   "source": [
    "print(df.columns)\n",
    "\n"
   ]
  },
  {
   "cell_type": "code",
   "execution_count": 20,
   "id": "c902eb49",
   "metadata": {},
   "outputs": [],
   "source": [
    "df['sentiment'] = df['Column_with_txt'].apply(lambda x: TextBlob(str(x)).sentiment.polarity)"
   ]
  },
  {
   "cell_type": "code",
   "execution_count": 21,
   "id": "d82208b6",
   "metadata": {},
   "outputs": [
    {
     "data": {
      "image/png": "[encoded data removed]",
      "text/plain": [
       "<Figure size 640x480 with 1 Axes>"
      ]
     },
     "metadata": {},
     "output_type": "display_data"
    }
   ],
   "source": [
    "import matplotlib.pyplot as plt\n",
    "# Create categories\n",
    "df['sentiment_label'] = df['sentiment'].apply(lambda x: 'Positive' if x > 0 else ('Negative' if x < 0 else 'Neutral'))\n",
    "df['sentiment_label'].value_counts().plot(kind='bar', color=['green','red','gray'])\n",
    "plt.title('Sentiment Distribution')\n",
    "plt.ylabel('Count')\n",
    "plt.show()\n"
   ]
  },
  {
   "cell_type": "code",
   "execution_count": 22,
   "id": "d83be68a",
   "metadata": {},
   "outputs": [
    {
     "data": {
      "text/plain": [
       "<Figure size 640x480 with 0 Axes>"
      ]
     },
     "metadata": {},
     "output_type": "display_data"
    }
   ],
   "source": [
    "plt.savefig('sentiment_chart.png')\n"
   ]
  },
  {
   "cell_type": "code",
   "execution_count": 23,
   "id": "80f826c6",
   "metadata": {},
   "outputs": [],
   "source": [
    "df.to_csv('sentiment_results.csv', index=False)\n"
   ]
  },
  {
   "cell_type": "code",
   "execution_count": null,
   "id": "1bb63f5c",
   "metadata": {},
   "outputs": [],
   "source": []
  },
  {
   "cell_type": "code",
   "execution_count": null,
   "id": "f58904b1",
   "metadata": {},
   "outputs": [],
   "source": [
    "\n"
   ]
  }
 ],
 "metadata": {
  "kernelspec": {
   "display_name": "venv",
   "language": "python",
   "name": "python3"
  },
  "language_info": {
   "codemirror_mode": {
    "name": "ipython",
    "version": 3
   },
   "file_extension": ".py",
   "mimetype": "text/x-python",
   "name": "python",
   "nbconvert_exporter": "python",
   "pygments_lexer": "ipython3",
   "version": "3.12.0"
  }
 },
 "nbformat": 4,
 "nbformat_minor": 5
}
